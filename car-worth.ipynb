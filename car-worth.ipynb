{
 "cells": [
  {
   "cell_type": "code",
   "execution_count": 1,
   "metadata": {
    "collapsed": false
   },
   "outputs": [],
   "source": [
    "from cw_task_one import *\n",
    "from cw_task_two import *\n",
    "from cw_task_three import *\n",
    "\n",
    "%matplotlib inline"
   ]
  },
  {
   "cell_type": "markdown",
   "metadata": {},
   "source": [
    "# How Much is Your Car Worth?\n",
    "\n",
    "Data about the retail price of 2005 General Motors cars can be found in `car_data.csv`.\n",
    "\n",
    "The columns are:\n",
    "\n",
    "1. Price: suggested retail price of the used 2005 GM car in excellent condition.\n",
    "2. Mileage: number of miles the car has been driven\n",
    "3. Make: manufacturer of the car such as Saturn, Pontiac, and Chevrolet\n",
    "4. Model: specific models for each car manufacturer such as Ion, Vibe, Cavalier\n",
    "5. Trim (of car): specific type of car model such as SE Sedan 4D, Quad Coupe 2D          \n",
    "6. Type: body type such as sedan, coupe, etc.      \n",
    "7. Cylinder: number of cylinders in the engine        \n",
    "8. Liter: a more specific measure of engine size     \n",
    "9. Doors: number of doors           \n",
    "10. Cruise: indicator variable representing whether the car has cruise control (1 = cruise)\n",
    "11. Sound: indicator variable representing whether the car has upgraded speakers (1 = upgraded)\n",
    "12. Leather: indicator variable representing whether the car has leather seats (1 = leather)"
   ]
  },
  {
   "cell_type": "markdown",
   "metadata": {
    "collapsed": false
   },
   "source": [
    "## Tasks, Part 1\n",
    "\n",
    "1. Find the linear regression equation for mileage vs price.\n",
    "2. Chart the original data and the equation on the chart.\n",
    "3. Find the equation's $R^2$ score (use the `.score` method) to determine whether the\n",
    "equation is a good fit for this data. (0.8 and greater is considered a strong correlation.)"
   ]
  },
  {
   "cell_type": "code",
   "execution_count": 2,
   "metadata": {
    "collapsed": false
   },
   "outputs": [
    {
     "name": "stdout",
     "output_type": "stream",
     "text": [
      "Line of best fit: Y = -0.17X + 24764.56\n"
     ]
    }
   ],
   "source": [
    "### Task 1.1 ###\n",
    "model, X, y = calc_task_one_one()\n",
    "print_task_one_one(model)"
   ]
  },
  {
   "cell_type": "code",
   "execution_count": 3,
   "metadata": {
    "collapsed": false
   },
   "outputs": [
    {
     "data": {
      "image/png": "[encoded data removed]",
      "text/plain": [
       "<matplotlib.figure.Figure at 0x105de99e8>"
      ]
     },
     "metadata": {},
     "output_type": "display_data"
    }
   ],
   "source": [
    "### Task 1.2 ###\n",
    "draw_task_one_two(model, X, y)"
   ]
  },
  {
   "cell_type": "code",
   "execution_count": 4,
   "metadata": {
    "collapsed": false
   },
   "outputs": [
    {
     "name": "stdout",
     "output_type": "stream",
     "text": [
      "Coefficient of determination: 0.02\n"
     ]
    }
   ],
   "source": [
    "### Task 1.3 ###\n",
    "print_task_one_three(model, X, y)"
   ]
  },
  {
   "cell_type": "markdown",
   "metadata": {},
   "source": [
    "## Tasks, Part 2\n",
    "\n",
    "1. Use mileage, cylinders, liters, doors, cruise, sound, and leather to find the linear regression equation.\n",
    "2. Find the equation's $R^2$ score (use the `.score` method) to determine whether the\n",
    "equation is a good fit for this data. (0.8 and greater is considered a strong correlation.)\n",
    "3. Find the combination of the factors that is the best predictor for price."
   ]
  },
  {
   "cell_type": "code",
   "execution_count": 5,
   "metadata": {
    "collapsed": false
   },
   "outputs": [
    {
     "name": "stdout",
     "output_type": "stream",
     "text": [
      "Line of best fit:\n",
      "Y = -0.17*Mileage + 3792.38*Cylinder + -787.22*Liter + -1542.75*Doors + 6289.00*Cruise + -1993.80*Sound + 3349.36*Leather + 6758.76\n"
     ]
    }
   ],
   "source": [
    "### Task 2.1 ###\n",
    "model, X, y = calc_task_two_one()\n",
    "print_task_two_one(model)"
   ]
  },
  {
   "cell_type": "code",
   "execution_count": 6,
   "metadata": {
    "collapsed": false
   },
   "outputs": [
    {
     "name": "stdout",
     "output_type": "stream",
     "text": [
      "Coefficient of determination: 0.45\n"
     ]
    }
   ],
   "source": [
    "### Task 2.2 ###\n",
    "print_task_two_two(model, X, y)"
   ]
  },
  {
   "cell_type": "markdown",
   "metadata": {},
   "source": [
    "##### Task 2.3 Analysis\n",
    "For the following task, note that removing 'Liter' has no effect on the accurancy of the model. Also note that removing both 'Liter' and 'Sound' performs only slightly worse and just as well as removing 'Sound' alone.\n",
    "\n",
    "If there is no risk of overfitting the model, the equation without 'Liter' is just as good as the model including it.\n",
    "\n",
    "If overfit is a concern, both 'Liter' and 'Sound' can be removed with almost no change in the model accuracy."
   ]
  },
  {
   "cell_type": "code",
   "execution_count": 7,
   "metadata": {
    "collapsed": false,
    "scrolled": true
   },
   "outputs": [
    {
     "name": "stdout",
     "output_type": "stream",
     "text": [
      "R^2 no Liter: 0.45\n",
      "R^2 no Sound: 0.44\n",
      "R^2 no Mileage: 0.43\n",
      "R^2 no Doors: 0.43\n",
      "R^2 no Cylinder: 0.42\n",
      "R^2 no Leather: 0.42\n",
      "R^2 no Cruise: 0.38\n",
      "\n",
      "R^2 no Liter/Sound: 0.44\n",
      "R^2 no Liter/Mileage: 0.43\n",
      "R^2 no Liter/Doors: 0.43\n",
      "R^2 no Liter/Leather: 0.42\n",
      "R^2 no Liter/Cruise: 0.38\n",
      "R^2 no Liter/Cylinder: 0.27\n"
     ]
    }
   ],
   "source": [
    "### Task 2.3 ###\n",
    "print_task_two_three()"
   ]
  },
  {
   "cell_type": "markdown",
   "metadata": {},
   "source": [
    "## Tasks, Part 3\n",
    "\n",
    "1. Research dummy variables in scikit-learn to see how to use the make, model, and body type.\n",
    "2. Find the best combination of factors to predict price."
   ]
  },
  {
   "cell_type": "code",
   "execution_count": 8,
   "metadata": {
    "collapsed": false
   },
   "outputs": [
    {
     "name": "stdout",
     "output_type": "stream",
     "text": [
      "['Mileage', 'Cylinder', 'Liter', 'Doors', 'Cruise', 'Sound', 'Leather', 'Make_Buick', 'Make_Cadillac', 'Make_Chevrolet', 'Make_Pontiac', 'Make_SAAB', 'Make_Saturn', 'Model_9-2X AWD', 'Model_9_3', 'Model_9_3 HO', 'Model_9_5', 'Model_9_5 HO', 'Model_AVEO', 'Model_Bonneville', 'Model_CST-V', 'Model_CTS', 'Model_Cavalier', 'Model_Century', 'Model_Classic', 'Model_Cobalt', 'Model_Corvette', 'Model_Deville', 'Model_G6', 'Model_GTO', 'Model_Grand Am', 'Model_Grand Prix', 'Model_Impala', 'Model_Ion', 'Model_L Series', 'Model_Lacrosse', 'Model_Lesabre', 'Model_Malibu', 'Model_Monte Carlo', 'Model_Park Avenue', 'Model_STS-V6', 'Model_STS-V8', 'Model_Sunfire', 'Model_Vibe', 'Model_XLR-V8', 'Type_Convertible', 'Type_Coupe', 'Type_Hatchback', 'Type_Sedan', 'Type_Wagon']\n"
     ]
    }
   ],
   "source": [
    "### Task 3.1 ###\n",
    "print_task_three_one()"
   ]
  },
  {
   "cell_type": "markdown",
   "metadata": {},
   "source": [
    "##### Task 3.2 analysis\n",
    "\n",
    "The dummy variables match an overwhelming amount of price data. It is possible to remove all the of the categorical variables used in the previous tasks without losing any model accuracy. As a result, to determine price of a car, the best information to have is the make, model and type of car."
   ]
  },
  {
   "cell_type": "code",
   "execution_count": 9,
   "metadata": {
    "collapsed": false
   },
   "outputs": [
    {
     "name": "stdout",
     "output_type": "stream",
     "text": [
      "Line of best fit:\n",
      "Y = -0.18*Mileage + 542.38*Cylinder + 1292.38*Liter + -1278.30*Doors + 24.20*Cruise + 218.36*Sound + 327.99*Leather + -3160.39*Make_Buick + 13021.31*Make_Cadillac + -4880.08*Make_Chevrolet + -4675.68*Make_Pontiac + 4710.23*Make_SAAB + -5015.40*Make_Saturn + -2609.21*Model_9-2X AWD + 476.74*Model_9_3 + 1511.09*Model_9_3 HO + 3430.85*Model_9_5 + 1900.76*Model_9_5 HO + -4936.12*Model_AVEO + 357.06*Model_Bonneville + 3778.04*Model_CST-V + -6533.89*Model_CTS + -3948.05*Model_Cavalier + -4611.22*Model_Century + -2894.33*Model_Classic + -2940.78*Model_Cobalt + 11847.77*Model_Corvette + -3469.65*Model_Deville + 271.55*Model_G6 + 5528.79*Model_GTO + -3987.59*Model_Grand Am + -1568.99*Model_Grand Prix + 438.17*Model_Impala + -2675.96*Model_Ion + -2339.43*Model_L Series + 226.75*Model_Lacrosse + -1345.98*Model_Lesabre + -2484.29*Model_Malibu + 37.54*Model_Monte Carlo + 2570.06*Model_Park Avenue + -187.69*Model_STS-V6 + 2991.63*Model_STS-V8 + -4356.64*Model_Sunfire + -919.87*Model_Vibe + 16442.87*Model_XLR-V8 + 3406.15*Type_Convertible + -2767.00*Type_Coupe + -334.49*Type_Hatchback + -519.55*Type_Sedan + 214.88*Type_Wagon + 25165.82\n",
      "\n",
      "Coefficient of determination: 0.98\n"
     ]
    }
   ],
   "source": [
    "### Task 3.2 ###\n",
    "model, X, y = calc_task_three_two()\n",
    "print_task_three_two_a(model)\n",
    "print_task_three_two_b(model, X, y)"
   ]
  },
  {
   "cell_type": "code",
   "execution_count": 10,
   "metadata": {
    "collapsed": false
   },
   "outputs": [
    {
     "name": "stdout",
     "output_type": "stream",
     "text": [
      "R^2 no Liter: 0.98\n",
      "R^2 no Liter/Sound: 0.98\n",
      "R^2 no Liter/Sound/Doors: 0.98\n",
      "R^2 no Liter/Sound/Doors/Mileage: 0.96\n",
      "R^2 no Liter/Sound/Doors/Mileage/Leather: 0.96\n",
      "R^2 no Liter/Sound/Doors/Mileage/Leather/Cruise: 0.96\n",
      "R^2 only dummies: 0.96\n"
     ]
    }
   ],
   "source": [
    "missing_lit()\n",
    "missing_lit_sou()\n",
    "missing_lit_sou_doo()\n",
    "missing_lit_sou_doo_mil()\n",
    "missing_lit_sou_doo_mil_lea()\n",
    "missing_lit_sou_doo_mil_lea_cru()\n",
    "missing_lit_sou_doo_mil_lea_cru_cyl()"
   ]
  }
 ],
 "metadata": {
  "kernelspec": {
   "display_name": "Python 3",
   "language": "python",
   "name": "python3"
  },
  "language_info": {
   "codemirror_mode": {
    "name": "ipython",
    "version": 3
   },
   "file_extension": ".py",
   "mimetype": "text/x-python",
   "name": "python",
   "nbconvert_exporter": "python",
   "pygments_lexer": "ipython3",
   "version": "3.5.1"
  }
 },
 "nbformat": 4,
 "nbformat_minor": 0
}
